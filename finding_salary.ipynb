{
  "nbformat": 4,
  "nbformat_minor": 0,
  "metadata": {
    "colab": {
      "provenance": [],
      "include_colab_link": true
    },
    "kernelspec": {
      "name": "python3",
      "display_name": "Python 3"
    },
    "language_info": {
      "name": "python"
    }
  },
  "cells": [
    {
      "cell_type": "markdown",
      "metadata": {
        "id": "view-in-github",
        "colab_type": "text"
      },
      "source": [
        "<a href=\"https://colab.research.google.com/github/chandleringit/super-duper-octo-fiesta/blob/main/finding_salary.ipynb\" target=\"_parent\"><img src=\"https://colab.research.google.com/assets/colab-badge.svg\" alt=\"Open In Colab\"/></a>"
      ]
    },
    {
      "cell_type": "markdown",
      "source": [
        "chandleringit\n",
        "\n",
        "仍待處理問題:\n",
        "      1.年份跟球隊還沒加上去\n",
        "      2.total的資料還要另外處理\n",
        "      3.爬蟲資料過多，應該加個停損點  "
      ],
      "metadata": {
        "id": "1zmMCnSAyZN2"
      }
    },
    {
      "cell_type": "code",
      "source": [
        "# 取得資料get_salary程式\n",
        "#\n",
        "\n",
        "import time\n",
        "import urllib.request as req\n",
        "import urllib.error as err\n",
        "import bs4 as bs\n",
        "# url = \"https://www.hoopshype.com/salaries/teams/dallas-mavericks/6/?season=2019\"\n",
        "def get_salary(url):\n",
        "\n",
        "    while True:\n",
        "        try:\n",
        "            resp = req.urlopen(url)\n",
        "            break\n",
        "        except err.HTTPError:\n",
        "            print(\"網址失敗\")\n",
        "            time.sleep(1)\n",
        "  # for saving\n",
        "    table = []\n",
        "    content = resp.read()\n",
        "    html = bs.BeautifulSoup(content)\n",
        "    target = html.find(\"tbody\", {\"class\":\"ZJKa8-__ZJKa8-\"})\n",
        "    for r in target:\n",
        "      name = r.find(\"td\", {\"class\":\"vTd-Ji__vTd-Ji\"})\n",
        "      salary = r.find(\"td\", {\"class\":\"RLrCiX__RLrCiX\"})\n",
        "      name_text = name.text.strip()\n",
        "      salary_text = salary.text.strip()\n",
        "\n",
        "      row ={\"name\":name_text,\n",
        "         \"salary\":salary_text}\n",
        "      table.append(row)\n",
        "    return table"
      ],
      "metadata": {
        "id": "L-atfxHRm3qA"
      },
      "execution_count": null,
      "outputs": []
    },
    {
      "cell_type": "code",
      "source": [
        "import pandas as pd\n",
        "\n",
        "\n",
        "team_inf = {\n",
        "        'ATL': ['atlanta-hawks', 1],\n",
        "        'BOS': ['boston-celtics', 2],\n",
        "        'BKN': ['brooklyn-nets', 17],\n",
        "        'CHA': ['charlotte-hornets', 5312],\n",
        "        'CHI': ['chicago-bulls', 4],\n",
        "        'CLE': ['cleveland-cavaliers', 5],\n",
        "        'DAL': ['dallas-mavericks', 6],\n",
        "        'DEN': ['denver-nuggets', 7],\n",
        "        'DET': ['detroit-pistons', 8],\n",
        "        'GSW': ['golden-state-warriors', 9],\n",
        "        'HOU': ['houston-rockets', 10],\n",
        "        'IND': ['indiana-pacers', 11],\n",
        "        'LAC': ['los-angeles-clippers', 12],\n",
        "        'LAL': ['los-angeles-lakers', 13],\n",
        "        'MEM': ['memphis_grizzlies', 29],\n",
        "        'MIA': ['miami-heat', 14],\n",
        "        'MIL': ['milwaukee-bucks', 15],\n",
        "        'MIN': ['minnesota-timberwolves', 16],\n",
        "        'NOP': ['new-orleans-pelicans', 3],\n",
        "        'NYK': ['new-york-knicks', 18],\n",
        "        'OKC': ['oklahoma-city-thunder', 25],\n",
        "        'ORL': ['orlando-magic', 19],\n",
        "        'PHI': ['philadelphia-76ers', 20],\n",
        "        'PHX': ['phoenix-suns', 21],\n",
        "        'POR': ['portland-trail-blazers', 22],\n",
        "        'SAC': ['sacramento-kings', 23],\n",
        "        'SAS': ['san-antonio-spurs', 24],\n",
        "        'TOR': ['toronto-raptors', 28],\n",
        "        'UTA': ['utah-jazz', 26],\n",
        "        'WAS': ['washington-wizards', 27]\n",
        "    }\n",
        "base_url = \"https://www.hoopshype.com/salaries/teams/{team_name}/{team_id}/?season={year}\"\n",
        "\n",
        "\n",
        "\n",
        "total_table = []\n",
        "for abbr, (team_name, team_id) in team_inf.items():\n",
        "    for year in range(2014, 2025):  # 2014~2024\n",
        "        url = base_url.format(team_name=team_name, team_id=team_id, year=year)\n",
        "        print(url)\n",
        "    partial = get_salary(url)\n",
        "    total_table = total_table + partial\n",
        "# print(len(total_table))\n",
        "df = pd.DataFrame(total_table)\n",
        "df.to_csv(\"nba_salary.csv\", encoding=\"utf-8\")"
      ],
      "metadata": {
        "id": "sc3cFcAguJJF"
      },
      "execution_count": null,
      "outputs": []
    }
  ]
}