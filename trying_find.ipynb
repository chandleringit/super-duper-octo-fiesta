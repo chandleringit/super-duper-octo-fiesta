{
  "nbformat": 4,
  "nbformat_minor": 0,
  "metadata": {
    "colab": {
      "provenance": []
    },
    "kernelspec": {
      "name": "python3",
      "display_name": "Python 3"
    },
    "language_info": {
      "name": "python"
    }
  },
  "cells": [
    {
      "cell_type": "code",
      "source": [
        "#以2018/9小牛為範例\n",
        "\n",
        "\n",
        "import time\n",
        "import urllib.request as req\n",
        "import urllib.error as err\n",
        "import bs4 as bs\n",
        "\n",
        "url = \"https://www.hoopshype.com/salaries/teams/dallas-mavericks/6/?season=2019\"\n",
        "while True:\n",
        "    try:\n",
        "        resp = req.urlopen(url)\n",
        "        break\n",
        "    except err.HTTPError:\n",
        "        print(\"網址失敗\")\n",
        "        time.sleep(1)\n",
        "\n",
        "content = resp.read()\n",
        "\n",
        "html = bs.BeautifulSoup(content)\n",
        "target = html.find(\"tbody\", {\"class\":\"ZJKa8-__ZJKa8-\"})\n",
        "target\n",
        "for r in target:\n",
        "  name = r.find(\"td\", {\"class\":\"vTd-Ji__vTd-Ji\"})\n",
        "  salary = r.find(\"td\", {\"class\":\"RLrCiX__RLrCiX\"})\n",
        "  name_text = name.text.strip()\n",
        "  salary_text = salary.text.strip()\n",
        "  print(name_text,salary_text)\n",
        "\n",
        "\n"
      ],
      "metadata": {
        "colab": {
          "base_uri": "https://localhost:8080/",
          "height": 211
        },
        "id": "jP9cojYS2mVC",
        "outputId": "aaa65011-bc1a-4f11-fcd7-154dc6f69da4"
      },
      "execution_count": 39,
      "outputs": [
        {
          "output_type": "error",
          "ename": "AttributeError",
          "evalue": "'NoneType' object has no attribute 'text'",
          "traceback": [
            "\u001b[0;31m---------------------------------------------------------------------------\u001b[0m",
            "\u001b[0;31mAttributeError\u001b[0m                            Traceback (most recent call last)",
            "\u001b[0;32m/tmp/ipython-input-27214373.py\u001b[0m in \u001b[0;36m<cell line: 0>\u001b[0;34m()\u001b[0m\n\u001b[1;32m     27\u001b[0m   \u001b[0mname_text\u001b[0m \u001b[0;34m=\u001b[0m \u001b[0mname\u001b[0m\u001b[0;34m.\u001b[0m\u001b[0mtext\u001b[0m\u001b[0;34m.\u001b[0m\u001b[0mstrip\u001b[0m\u001b[0;34m(\u001b[0m\u001b[0;34m)\u001b[0m\u001b[0;34m\u001b[0m\u001b[0;34m\u001b[0m\u001b[0m\n\u001b[1;32m     28\u001b[0m   \u001b[0msalary_text\u001b[0m \u001b[0;34m=\u001b[0m \u001b[0msalary\u001b[0m\u001b[0;34m.\u001b[0m\u001b[0mtext\u001b[0m\u001b[0;34m.\u001b[0m\u001b[0mstrip\u001b[0m\u001b[0;34m(\u001b[0m\u001b[0;34m)\u001b[0m\u001b[0;34m\u001b[0m\u001b[0;34m\u001b[0m\u001b[0m\n\u001b[0;32m---> 29\u001b[0;31m   \u001b[0myear_text\u001b[0m \u001b[0;34m=\u001b[0m \u001b[0myear\u001b[0m\u001b[0;34m.\u001b[0m\u001b[0mtext\u001b[0m\u001b[0;34m.\u001b[0m\u001b[0mstrip\u001b[0m\u001b[0;34m(\u001b[0m\u001b[0;34m)\u001b[0m\u001b[0;34m\u001b[0m\u001b[0;34m\u001b[0m\u001b[0m\n\u001b[0m\u001b[1;32m     30\u001b[0m   \u001b[0mprint\u001b[0m\u001b[0;34m(\u001b[0m\u001b[0mname_text\u001b[0m\u001b[0;34m,\u001b[0m\u001b[0msalary_text\u001b[0m\u001b[0;34m,\u001b[0m\u001b[0myear_text\u001b[0m\u001b[0;34m)\u001b[0m\u001b[0;34m\u001b[0m\u001b[0;34m\u001b[0m\u001b[0m\n\u001b[1;32m     31\u001b[0m \u001b[0;34m\u001b[0m\u001b[0m\n",
            "\u001b[0;31mAttributeError\u001b[0m: 'NoneType' object has no attribute 'text'"
          ]
        }
      ]
    },
    {
      "cell_type": "code",
      "source": [
        "import time\n",
        "import urllib.request as req\n",
        "import urllib.error as err\n",
        "import bs4 as bs\n",
        "# url = \"https://www.hoopshype.com/salaries/teams/dallas-mavericks/6/?season=2019\"\n",
        "def get_salary(url):\n",
        "\n",
        "    while True:\n",
        "        try:\n",
        "            resp = req.urlopen(url)\n",
        "            break\n",
        "        except err.HTTPError:\n",
        "            print(\"網址失敗\")\n",
        "            time.sleep(1)\n",
        "  # for saving\n",
        "    table = []\n",
        "    content = resp.read()\n",
        "    html = bs.BeautifulSoup(content)\n",
        "    target = html.find(\"tbody\", {\"class\":\"ZJKa8-__ZJKa8-\"})\n",
        "    for r in target:\n",
        "      name = r.find(\"td\", {\"class\":\"vTd-Ji__vTd-Ji\"})\n",
        "      salary = r.find(\"td\", {\"class\":\"RLrCiX__RLrCiX\"})\n",
        "      name_text = name.text.strip()\n",
        "      salary_text = salary.text.strip()\n",
        "\n",
        "      row ={\"name\":name_text,\n",
        "         \"salary\":salary_text}\n",
        "      table.append(row)\n",
        "    return table\n",
        "\n",
        "get_salary(\"https://www.hoopshype.com/salaries/teams/dallas-mavericks/6/?season=2019\")"
      ],
      "metadata": {
        "colab": {
          "base_uri": "https://localhost:8080/"
        },
        "id": "L-atfxHRm3qA",
        "outputId": "2079f0e4-659a-422e-be07-51cd0ecf04ca"
      },
      "execution_count": 33,
      "outputs": [
        {
          "output_type": "execute_result",
          "data": {
            "text/plain": [
              "[{'name': 'K. Porzingis', 'salary': '$27,285,000'},\n",
              " {'name': 'Tim Hardaway Jr.', 'salary': '$20,025,127'},\n",
              " {'name': 'Courtney Lee', 'salary': '$12,759,670'},\n",
              " {'name': 'Dwight Powell', 'salary': '$10,259,375'},\n",
              " {'name': 'Delon Wright', 'salary': '$9,473,684'},\n",
              " {'name': 'Maxi Kleber', 'salary': '$8,000,000'},\n",
              " {'name': 'Luka Doncic', 'salary': '$7,683,360'},\n",
              " {'name': 'Seth Curry', 'salary': '$7,461,380'},\n",
              " {'name': 'D. Finney-Smith', 'salary': '$4,000,000'},\n",
              " {'name': 'Boban Marjanovic', 'salary': '$3,500,000'},\n",
              " {'name': 'Justin Jackson', 'salary': '$3,280,920'},\n",
              " {'name': 'Jose Juan Barea', 'salary': '$2,564,753'},\n",
              " {'name': 'W. Cauley-Stein', 'salary': '$2,177,483'},\n",
              " {'name': 'Jalen Brunson', 'salary': '$1,416,852'},\n",
              " {'name': 'M. Kidd-Gilchrist', 'salary': '$595,122'},\n",
              " {'name': 'Trey Burke', 'salary': '$229,220'},\n",
              " {'name': 'Josh Reaves', 'salary': '$79,568'},\n",
              " {'name': 'A. Cleveland', 'salary': '$79,568'},\n",
              " {'name': '$120,871,082', 'salary': '$120,871,082'}]"
            ]
          },
          "metadata": {},
          "execution_count": 33
        }
      ]
    },
    {
      "cell_type": "code",
      "source": [
        "# page為2014到2024\n",
        "import pandas as pd\n",
        "base_url = \"https://www.hoopshype.com/salaries/teams/dallas-mavericks/6/?season=\"\n",
        "total_table = []\n",
        "for i in range(11):\n",
        "    yr = i + 2014\n",
        "    url = base_url + str(yr)\n",
        "    print(url)\n",
        "    partial = get_salary(url)\n",
        "    total_table = total_table + partial\n",
        "# print(len(total_table))\n",
        "df = pd.DataFrame(total_table)\n",
        "df.to_csv(\"dallas_salary.csv\", encoding=\"utf-8\")"
      ],
      "metadata": {
        "colab": {
          "base_uri": "https://localhost:8080/"
        },
        "id": "1DPFfjBqqz3J",
        "outputId": "68f70159-7fff-4413-81df-bfad1058d0df"
      },
      "execution_count": 35,
      "outputs": [
        {
          "output_type": "stream",
          "name": "stdout",
          "text": [
            "https://www.hoopshype.com/salaries/teams/dallas-mavericks/6/?season=2014\n",
            "https://www.hoopshype.com/salaries/teams/dallas-mavericks/6/?season=2015\n",
            "https://www.hoopshype.com/salaries/teams/dallas-mavericks/6/?season=2016\n",
            "https://www.hoopshype.com/salaries/teams/dallas-mavericks/6/?season=2017\n",
            "https://www.hoopshype.com/salaries/teams/dallas-mavericks/6/?season=2018\n",
            "https://www.hoopshype.com/salaries/teams/dallas-mavericks/6/?season=2019\n",
            "https://www.hoopshype.com/salaries/teams/dallas-mavericks/6/?season=2020\n",
            "https://www.hoopshype.com/salaries/teams/dallas-mavericks/6/?season=2021\n",
            "https://www.hoopshype.com/salaries/teams/dallas-mavericks/6/?season=2022\n",
            "https://www.hoopshype.com/salaries/teams/dallas-mavericks/6/?season=2023\n",
            "https://www.hoopshype.com/salaries/teams/dallas-mavericks/6/?season=2024\n"
          ]
        }
      ]
    }
  ]
}